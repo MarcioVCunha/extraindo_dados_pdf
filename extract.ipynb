{
 "cells": [
  {
   "cell_type": "code",
   "execution_count": 40,
   "metadata": {},
   "outputs": [],
   "source": [
    "import openpyxl as xl\n",
    "import pdfplumber\n",
    "import os"
   ]
  },
  {
   "cell_type": "code",
   "execution_count": 43,
   "metadata": {},
   "outputs": [],
   "source": [
    "for arquivo in os.listdir(\"./pdfs\"):\n",
    "    if arquivo.endswith(\".pdf\"):\n",
    "        excel = xl.load_workbook(\"Base de Dados Inspeções.xlsx\")\n",
    "        aba = excel.active\n",
    "\n",
    "        linha_inicio = len(aba[\"A\"]) + 1\n",
    "\n",
    "        pdf = pdfplumber.open(f'./pdfs/{arquivo}')\n",
    "        pagina = pdf.pages[0]\n",
    "        \n",
    "        dados = pagina.extract_table()\n",
    "\n",
    "        for indice, dado in enumerate(dados[1:], start=linha_inicio):\n",
    "            if dado[0] != \"\":\n",
    "                for i in range(0, 5):\n",
    "                    aba.cell(row = indice, column = i + 1).value = dado[i]\n",
    "\n",
    "        pdf.close()\n",
    "\n",
    "        excel.save(\"Base de Dados Inspeções.xlsx\")\n",
    "        excel.close()\n",
    "    else:\n",
    "        pass"
   ]
  },
  {
   "cell_type": "code",
   "execution_count": null,
   "metadata": {},
   "outputs": [],
   "source": []
  }
 ],
 "metadata": {
  "kernelspec": {
   "display_name": "venv",
   "language": "python",
   "name": "python3"
  },
  "language_info": {
   "codemirror_mode": {
    "name": "ipython",
    "version": 3
   },
   "file_extension": ".py",
   "mimetype": "text/x-python",
   "name": "python",
   "nbconvert_exporter": "python",
   "pygments_lexer": "ipython3",
   "version": "3.10.12"
  },
  "orig_nbformat": 4
 },
 "nbformat": 4,
 "nbformat_minor": 2
}
