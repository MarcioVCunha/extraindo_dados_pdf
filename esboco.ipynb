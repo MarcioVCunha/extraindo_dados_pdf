{
 "cells": [
  {
   "cell_type": "code",
   "execution_count": 1,
   "metadata": {},
   "outputs": [],
   "source": [
    "import pdfplumber\n",
    "import openpyxl as xl"
   ]
  },
  {
   "cell_type": "code",
   "execution_count": 2,
   "metadata": {},
   "outputs": [],
   "source": [
    "# Funcionalidades Básicas do openpyxl\n",
    "\n",
    "excel = xl.load_workbook(\"./Base de Dados Inspeções.xlsx\")"
   ]
  },
  {
   "cell_type": "code",
   "execution_count": 3,
   "metadata": {},
   "outputs": [],
   "source": [
    "# Ativando o sheet(aba)\n",
    "\n",
    "aba = excel.active"
   ]
  },
  {
   "cell_type": "code",
   "execution_count": 4,
   "metadata": {},
   "outputs": [
    {
     "data": {
      "text/plain": [
       "openpyxl.cell.cell.Cell"
      ]
     },
     "execution_count": 4,
     "metadata": {},
     "output_type": "execute_result"
    }
   ],
   "source": [
    "type(aba[\"A1\"])"
   ]
  },
  {
   "cell_type": "code",
   "execution_count": 5,
   "metadata": {},
   "outputs": [
    {
     "data": {
      "text/plain": [
       "'Data de Inspeção'"
      ]
     },
     "execution_count": 5,
     "metadata": {},
     "output_type": "execute_result"
    }
   ],
   "source": [
    "aba[\"A1\"].value"
   ]
  },
  {
   "cell_type": "code",
   "execution_count": 6,
   "metadata": {},
   "outputs": [
    {
     "data": {
      "text/plain": [
       "1"
      ]
     },
     "execution_count": 6,
     "metadata": {},
     "output_type": "execute_result"
    }
   ],
   "source": [
    "len(aba[\"A\"])"
   ]
  },
  {
   "cell_type": "code",
   "execution_count": 7,
   "metadata": {},
   "outputs": [
    {
     "data": {
      "text/plain": [
       "'Data de Inspeção'"
      ]
     },
     "execution_count": 7,
     "metadata": {},
     "output_type": "execute_result"
    }
   ],
   "source": [
    "aba.cell(row=1, column=1).value"
   ]
  },
  {
   "cell_type": "code",
   "execution_count": 8,
   "metadata": {},
   "outputs": [],
   "source": [
    "excel.save(\"./Base de Dados Inspeções.xlsx\")"
   ]
  },
  {
   "cell_type": "code",
   "execution_count": 9,
   "metadata": {},
   "outputs": [],
   "source": [
    "# Funcionalidades básicas do PDFplumber\n",
    "\n",
    "pdf = pdfplumber.open(\"./pdfs/Relatório de Inspeção Empresa A.pdf\")"
   ]
  },
  {
   "cell_type": "code",
   "execution_count": 10,
   "metadata": {},
   "outputs": [
    {
     "data": {
      "text/plain": [
       "pdfplumber.pdf.PDF"
      ]
     },
     "execution_count": 10,
     "metadata": {},
     "output_type": "execute_result"
    }
   ],
   "source": [
    "type(pdf)"
   ]
  },
  {
   "cell_type": "code",
   "execution_count": 11,
   "metadata": {},
   "outputs": [],
   "source": [
    "pagina = pdf.pages[0]"
   ]
  },
  {
   "cell_type": "code",
   "execution_count": 12,
   "metadata": {},
   "outputs": [
    {
     "data": {
      "text/plain": [
       "pdfplumber.page.Page"
      ]
     },
     "execution_count": 12,
     "metadata": {},
     "output_type": "execute_result"
    }
   ],
   "source": [
    "type(pagina)"
   ]
  },
  {
   "cell_type": "code",
   "execution_count": 13,
   "metadata": {},
   "outputs": [],
   "source": [
    "dados = pagina.extract_table()"
   ]
  },
  {
   "cell_type": "code",
   "execution_count": 14,
   "metadata": {},
   "outputs": [
    {
     "data": {
      "text/plain": [
       "list"
      ]
     },
     "execution_count": 14,
     "metadata": {},
     "output_type": "execute_result"
    }
   ],
   "source": [
    "type(dados)"
   ]
  },
  {
   "cell_type": "code",
   "execution_count": 15,
   "metadata": {},
   "outputs": [
    {
     "data": {
      "text/plain": [
       "40"
      ]
     },
     "execution_count": 15,
     "metadata": {},
     "output_type": "execute_result"
    }
   ],
   "source": [
    "len(dados)"
   ]
  },
  {
   "cell_type": "code",
   "execution_count": 16,
   "metadata": {},
   "outputs": [
    {
     "data": {
      "text/plain": [
       "[['Data da inspeção', 'Empresa', 'Departamento', 'Setor', 'Status'],\n",
       " ['01/01/2022', 'Empresa A', 'Recursos Humanos', 'Sala 1', 'Aprovado'],\n",
       " ['01/01/2022', 'Empresa A', 'Recursos Humanos', 'Sala 2', 'Aprovado'],\n",
       " ['01/01/2022', 'Empresa A', 'Recursos Humanos', 'Sala3', 'Aprovado'],\n",
       " ['01/01/2022', 'Empresa A', 'Recursos Humanos', 'Sala 4', 'Aprovado'],\n",
       " ['01/01/2022', 'Empresa A', 'Recursos Humanos', 'Banheiro', 'Reprovado'],\n",
       " ['01/01/2022', 'Empresa A', 'Recursos Humanos', 'Refeitório', 'Aprovado'],\n",
       " ['01/01/2022', 'Empresa A', 'Recursos Humanos', 'Sala 5', 'Aprovado'],\n",
       " ['02/02/2022', 'Empresa A', 'Tecnologia da Informação', 'Sala 1', 'Aprovado'],\n",
       " ['02/02/2022', 'Empresa A', 'Tecnologia da Informação', 'Sala 2', 'Aprovado'],\n",
       " ['02/02/2022', 'Empresa A', 'Tecnologia da Informação', 'Sala 3', 'Aprovado'],\n",
       " ['02/02/2022',\n",
       "  'Empresa A',\n",
       "  'Tecnologia da Informação',\n",
       "  'Banheiro',\n",
       "  'Reprovado'],\n",
       " ['02/02/2022',\n",
       "  'Empresa A',\n",
       "  'Tecnologia da Informação',\n",
       "  'Refeitório',\n",
       "  'Aprovado'],\n",
       " ['03/02/2022', 'Empresa A', 'Galpão I', 'Aréa descarga', 'Aprovado'],\n",
       " ['03/02/2022', 'Empresa A', 'Galpão I', 'Sala 1', 'Aprovado'],\n",
       " ['03/02/2022', 'Empresa A', 'Galpão I', 'Sala 2', 'Aprovado'],\n",
       " ['03/02/2022', 'Empresa A', 'Galpão I', 'Sala 3', 'Aprovado'],\n",
       " ['03/02/2022', 'Empresa A', 'Galpão I', 'Área carga', 'Aprovado'],\n",
       " ['03/02/2022', 'Empresa A', 'Galpão I', 'Refeitório', 'Aprovado'],\n",
       " ['03/02/2022', 'Empresa A', 'Galpão I', 'Banheiro', 'Reprovado'],\n",
       " ['', '', '', '', ''],\n",
       " ['', '', '', '', ''],\n",
       " ['', '', '', '', ''],\n",
       " ['', '', '', '', ''],\n",
       " ['', '', '', '', ''],\n",
       " ['', '', '', '', ''],\n",
       " ['', '', '', '', ''],\n",
       " ['', '', '', '', ''],\n",
       " ['', '', '', '', ''],\n",
       " ['', '', '', '', ''],\n",
       " ['', '', '', '', ''],\n",
       " ['', '', '', '', ''],\n",
       " ['', '', '', '', ''],\n",
       " ['', '', '', '', ''],\n",
       " ['', '', '', '', ''],\n",
       " ['', '', '', '', ''],\n",
       " ['', '', '', '', ''],\n",
       " ['', '', '', '', ''],\n",
       " ['', '', '', '', ''],\n",
       " ['', '', '', '', '']]"
      ]
     },
     "execution_count": 16,
     "metadata": {},
     "output_type": "execute_result"
    }
   ],
   "source": [
    "dados"
   ]
  },
  {
   "cell_type": "code",
   "execution_count": 17,
   "metadata": {},
   "outputs": [
    {
     "data": {
      "text/plain": [
       "['Data da inspeção', 'Empresa', 'Departamento', 'Setor', 'Status']"
      ]
     },
     "execution_count": 17,
     "metadata": {},
     "output_type": "execute_result"
    }
   ],
   "source": [
    "dados[0]"
   ]
  },
  {
   "cell_type": "code",
   "execution_count": 18,
   "metadata": {},
   "outputs": [],
   "source": [
    "excel.close()"
   ]
  },
  {
   "cell_type": "code",
   "execution_count": null,
   "metadata": {},
   "outputs": [],
   "source": []
  }
 ],
 "metadata": {
  "kernelspec": {
   "display_name": "venv",
   "language": "python",
   "name": "python3"
  },
  "language_info": {
   "codemirror_mode": {
    "name": "ipython",
    "version": 3
   },
   "file_extension": ".py",
   "mimetype": "text/x-python",
   "name": "python",
   "nbconvert_exporter": "python",
   "pygments_lexer": "ipython3",
   "version": "3.10.12"
  },
  "orig_nbformat": 4
 },
 "nbformat": 4,
 "nbformat_minor": 2
}
